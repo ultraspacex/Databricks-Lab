{
 "cells": [
  {
   "cell_type": "code",
   "execution_count": 0,
   "metadata": {
    "application/vnd.databricks.v1+cell": {
     "cellMetadata": {
      "byteLimit": 2048000,
      "rowLimit": 10000
     },
     "inputWidgets": {},
     "nuid": "13c69fa3-31b1-4780-9d73-f2c35d2bcf59",
     "showTitle": false,
     "tableResultSettingsMap": {},
     "title": ""
    }
   },
   "outputs": [],
   "source": [
    "# Databricks notebook source\n",
    "dbutils.widgets.text(\"input\", \"world\", \"Input Message\")\n",
    "input_val = dbutils.widgets.get(\"input\")\n",
    "print(f\"Hello, {input_val}!\")\n",
    "\n",
    "import pandas as pd\n",
    "data = pd.DataFrame({'val': range(5)})\n",
    "display(data)"
   ]
  }
 ],
 "metadata": {
  "application/vnd.databricks.v1+notebook": {
   "computePreferences": null,
   "dashboards": [],
   "environmentMetadata": {
    "base_environment": "",
    "environment_version": "3"
   },
   "inputWidgetPreferences": null,
   "language": "python",
   "notebookMetadata": {
    "pythonIndentUnit": 4
   },
   "notebookName": "MyFirstNotebook",
   "widgets": {
    "input": {
     "currentValue": "world",
     "nuid": "45390784-abe2-49c7-bf32-a08d720ade5d",
     "typedWidgetInfo": {
      "autoCreated": false,
      "defaultValue": "world",
      "label": "Input Message",
      "name": "input",
      "options": {
       "widgetDisplayType": "Text",
       "validationRegex": null
      },
      "parameterDataType": "String"
     },
     "widgetInfo": {
      "widgetType": "text",
      "defaultValue": "world",
      "label": "Input Message",
      "name": "input",
      "options": {
       "widgetType": "text",
       "autoCreated": false,
       "validationRegex": null
      }
     }
    }
   }
  },
  "language_info": {
   "name": "python"
  }
 },
 "nbformat": 4,
 "nbformat_minor": 0
}
