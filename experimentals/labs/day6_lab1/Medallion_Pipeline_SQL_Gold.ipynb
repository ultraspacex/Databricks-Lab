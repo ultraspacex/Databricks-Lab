{
 "cells": [
  {
   "cell_type": "code",
   "execution_count": 0,
   "metadata": {
    "application/vnd.databricks.v1+cell": {
     "cellMetadata": {},
     "inputWidgets": {},
     "nuid": "bbe5f8b4-287d-4111-9e43-95743f04669e",
     "showTitle": false,
     "tableResultSettingsMap": {},
     "title": ""
    }
   },
   "outputs": [],
   "source": [
    "CREATE OR REFRESH MATERIALIZED VIEW gold_sales_summary (\n",
    "  OrderDate DATE,\n",
    "  total_sales DOUBLE,\n",
    "  unique_customers BIGINT,\n",
    "  CONSTRAINT valid_total_sales EXPECT (total_sales > 0)\n",
    ")\n",
    "COMMENT \"Aggregated daily sales totals\"\n",
    "AS\n",
    "SELECT\n",
    "  OrderDate,\n",
    "  SUM(Quantity * UnitPrice) AS total_sales,\n",
    "  COUNT(DISTINCT CustomerId) AS unique_customers\n",
    "FROM\n",
    "  silver_sales\n",
    "GROUP BY\n",
    "  OrderDate\n"
   ]
  }
 ],
 "metadata": {
  "application/vnd.databricks.v1+notebook": {
   "computePreferences": null,
   "dashboards": [],
   "environmentMetadata": {
    "base_environment": "",
    "environment_version": "3"
   },
   "inputWidgetPreferences": null,
   "language": "sql",
   "notebookMetadata": {
    "pythonIndentUnit": 4
   },
   "notebookName": "Medallion_Pipeline_SQL_Gold",
   "widgets": {}
  },
  "language_info": {
   "name": "sql"
  }
 },
 "nbformat": 4,
 "nbformat_minor": 0
}
