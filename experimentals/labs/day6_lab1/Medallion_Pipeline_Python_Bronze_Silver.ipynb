{
 "cells": [
  {
   "cell_type": "code",
   "execution_count": 0,
   "metadata": {
    "application/vnd.databricks.v1+cell": {
     "cellMetadata": {},
     "inputWidgets": {},
     "nuid": "a2ff04f4-81f7-433b-86bd-7c4ac1cd15eb",
     "showTitle": false,
     "tableResultSettingsMap": {},
     "title": ""
    }
   },
   "outputs": [],
   "source": [
    "import dlt\n",
    "from pyspark.sql.functions import col\n",
    "\n",
    "@dlt.table(\n",
    "  name=\"bronze_sales\",\n",
    "  comment=\"Raw sales data ingested to Bronze layer\",\n",
    "  table_properties={\n",
    "    \"quality\": \"bronze\"\n",
    "  }\n",
    ")\n",
    "def bronze_sales():\n",
    "    return (\n",
    "        spark.read.option(\"header\", \"true\")\n",
    "                  .option(\"inferSchema\", \"true\")\n",
    "                  .csv(\"/Volumes/labdaysix/default/data/sales.csv\")\n",
    "    )\n",
    "\n",
    "@dlt.table(\n",
    "  name=\"silver_sales\",\n",
    "  comment=\"Cleaned and deduplicated Silver sales data\"\n",
    ")\n",
    "@dlt.expect(\"valid_quantity\", \"Quantity > 0\")\n",
    "@dlt.expect_or_drop(\"no_nulls\", \"CustomerId IS NOT NULL\")\n",
    "def silver_sales():\n",
    "    df = dlt.read(\"bronze_sales\")\n",
    "    return df.filter(col(\"Quantity\") > 0).dropDuplicates([\"SalesOrderNumber\", \"SalesOrderLineNumber\"])\n"
   ]
  }
 ],
 "metadata": {
  "application/vnd.databricks.v1+notebook": {
   "computePreferences": {
    "hardware": {
     "accelerator": null,
     "gpuPoolId": null,
     "memory": null
    }
   },
   "dashboards": [],
   "environmentMetadata": {
    "base_environment": "",
    "environment_version": "3"
   },
   "inputWidgetPreferences": null,
   "language": "python",
   "notebookMetadata": {
    "pythonIndentUnit": 4
   },
   "notebookName": "Medallion_Pipeline_Python_Bronze_Silver",
   "widgets": {}
  },
  "language_info": {
   "name": "python"
  }
 },
 "nbformat": 4,
 "nbformat_minor": 0
}
