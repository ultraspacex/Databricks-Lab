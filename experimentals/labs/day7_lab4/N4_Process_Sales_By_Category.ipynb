{
 "cells": [
  {
   "cell_type": "code",
   "execution_count": 0,
   "metadata": {
    "application/vnd.databricks.v1+cell": {
     "cellMetadata": {},
     "inputWidgets": {},
     "nuid": "01807ae0-9084-488e-9c66-755ddc75d5af",
     "showTitle": false,
     "tableResultSettingsMap": {},
     "title": ""
    }
   },
   "outputs": [],
   "source": [
    "from pyspark.sql.functions import col\n",
    "\n",
    "dbutils.widgets.text(\"category_filter\", \"\", \"Category to filter and process (populated by {{item}})\")\n",
    "dbutils.widgets.text(\"enriched_sales_table\", \"silver_sales_enriched\", \"Enriched Sales Table\")\n",
    "dbutils.widgets.text(\"output_path_base\", \"dbfs:/FileStore/lab_data/category_sales/\", \"Base output path for category sales\")\n",
    "dbutils.widgets.text(\"database_name\", \"module2_db\", \"Database Name\")\n",
    "\n",
    "current_category_widget = dbutils.widgets.get(\"category_filter\")\n",
    "current_category = current_category_widget \n",
    "\n",
    "enriched_sales_table_name = dbutils.widgets.get(\"enriched_sales_table\")\n",
    "output_path_base = dbutils.widgets.get(\"output_path_base\")\n",
    "db_name = dbutils.widgets.get(\"database_name\")\n",
    "\n",
    "full_enriched_sales_table_path = f\"{db_name}.{enriched_sales_table_name}\"\n",
    "safe_category_name = \"\".join(c if c.isalnum() else \"_\" for c in current_category)\n",
    "category_output_path = f\"{output_path_base.rstrip('/')}/{safe_category_name}/\"\n",
    "\n",
    "print(f\"Processing sales for category: {current_category} (Safe name: {safe_category_name})\")\n",
    "print(f\"Input table: {full_enriched_sales_table_path}\")\n",
    "print(f\"Output path: {category_output_path}\")\n",
    "\n",
    "if not current_category:\n",
    "    dbutils.notebook.exit(\"Category not provided. Exiting.\")\n",
    "\n",
    "try:\n",
    "    df_enriched_sales = spark.table(full_enriched_sales_table_path)\n",
    "except Exception as e:\n",
    "    print(f\"Error reading table {full_enriched_sales_table_path}: {e}\")\n",
    "    dbutils.notebook.exit(f\"Failed to read table: {full_enriched_sales_table_path}\")\n",
    "\n",
    "if \"Category\" not in df_enriched_sales.columns:\n",
    "    dbutils.notebook.exit(f\"Enriched sales table missing 'Category' column for filtering.\")\n",
    "\n",
    "df_category_sales = df_enriched_sales.filter(col(\"Category\") == current_category)\n",
    "\n",
    "if df_category_sales.isEmpty():\n",
    "    print(f\"No sales found for category: {current_category}\")\n",
    "    dbutils.notebook.exit(f\"No sales for category {current_category}\")\n",
    "else:\n",
    "    df_category_sales.write.format(\"delta\").mode(\"overwrite\").save(category_output_path)\n",
    "    count = df_category_sales.count()\n",
    "    print(f\"Successfully processed and saved {count} sales records for category '{current_category}' to {category_output_path}\")\n",
    "    dbutils.jobs.taskValues.set(key=f\"processed_count_{safe_category_name}\", value=count)\n",
    "    dbutils.notebook.exit(f\"Processed category {current_category}\")"
   ]
  }
 ],
 "metadata": {
  "application/vnd.databricks.v1+notebook": {
   "computePreferences": null,
   "dashboards": [],
   "environmentMetadata": {
    "base_environment": "",
    "environment_version": "3"
   },
   "inputWidgetPreferences": null,
   "language": "python",
   "notebookMetadata": {
    "pythonIndentUnit": 4
   },
   "notebookName": "N4_Process_Sales_By_Category",
   "widgets": {}
  },
  "language_info": {
   "name": "python"
  }
 },
 "nbformat": 4,
 "nbformat_minor": 0
}
