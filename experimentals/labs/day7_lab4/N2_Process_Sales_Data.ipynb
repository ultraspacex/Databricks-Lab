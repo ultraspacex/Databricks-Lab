{
 "cells": [
  {
   "cell_type": "code",
   "execution_count": 0,
   "metadata": {
    "application/vnd.databricks.v1+cell": {
     "cellMetadata": {},
     "inputWidgets": {},
     "nuid": "31999fa7-76a6-45ca-90ee-c948504c2b97",
     "showTitle": false,
     "tableResultSettingsMap": {},
     "title": ""
    }
   },
   "outputs": [],
   "source": [
    "from pyspark.sql.functions import col, sum, round\n",
    "\n",
    "dbutils.widgets.text(\"sales_table_name\", \"bronze_sales\", \"Source Sales Table\")\n",
    "dbutils.widgets.text(\"customers_table_name\", \"bronze_customers\", \"Source Customers Table\")\n",
    "dbutils.widgets.text(\"products_table_name\", \"bronze_products\", \"Source Products Table\")\n",
    "dbutils.widgets.text(\"output_table_name\", \"silver_sales_enriched\", \"Output Silver Table\")\n",
    "dbutils.widgets.text(\"database_name\", \"module2_db\", \"Database Name\")\n",
    "\n",
    "sales_table = dbutils.widgets.get(\"sales_table_name\")\n",
    "customers_table = dbutils.widgets.get(\"customers_table_name\")\n",
    "products_table = dbutils.widgets.get(\"products_table_name\")\n",
    "output_table = dbutils.widgets.get(\"output_table_name\")\n",
    "db_name = dbutils.widgets.get(\"database_name\")\n",
    "\n",
    "spark.sql(f\"USE {db_name}\")\n",
    "\n",
    "print(f\"Processing sales data for: {db_name}.{sales_table}\")\n",
    "\n",
    "try:\n",
    "    df_sales = spark.table(f\"{db_name}.{sales_table}\")\n",
    "    df_customers = spark.table(f\"{db_name}.{customers_table}\")\n",
    "    df_products = spark.table(f\"{db_name}.{products_table}\")\n",
    "except Exception as e:\n",
    "    dbutils.notebook.exit(f\"Failed to read one of the source tables: {e}\")\n",
    "\n",
    "# Calculate revenue and join data\n",
    "df_sales_with_revenue = df_sales.withColumn(\"Revenue\", round(col(\"Quantity\") * col(\"UnitPrice\"), 2))\n",
    "\n",
    "df_enriched = df_sales_with_revenue.alias(\"sales\") \\\n",
    "    .join(df_customers.alias(\"cust\"), col(\"sales.CustomerID\") == col(\"cust.CustomerName\"), \"left\") \\\n",
    "    .join(df_products.alias(\"prod\"), col(\"sales.Item\") == col(\"prod.Item\"), \"left\") \\\n",
    "    .select(\n",
    "        col(\"sales.SalesOrderNumber\"),\n",
    "        col(\"sales.OrderDate\"),\n",
    "        col(\"sales.Item\"),\n",
    "        col(\"sales.Quantity\"),\n",
    "        col(\"sales.UnitPrice\"),\n",
    "        col(\"sales.Revenue\"),\n",
    "        col(\"cust.CustomerName\"),\n",
    "        col(\"cust.Region\"),\n",
    "        col(\"cust.CustomerType\"),\n",
    "        col(\"prod.Category\")\n",
    "    )\n",
    "\n",
    "df_enriched.write.format(\"delta\").mode(\"overwrite\").saveAsTable(output_table)\n",
    "\n",
    "silver_count = df_enriched.count()\n",
    "print(f\"Successfully processed and saved {silver_count} records to {output_table}.\")\n",
    "\n",
    "# Set task values for downstream tasks (like the For Each loop)\n",
    "dbutils.jobs.taskValues.set(key=\"silver_table_name\", value=output_table)\n",
    "dbutils.jobs.taskValues.set(key=\"silver_table_count\", value=silver_count)\n",
    "dbutils.notebook.exit(f\"Processing finished. Saved {silver_count} records to {output_table}.\")"
   ]
  }
 ],
 "metadata": {
  "application/vnd.databricks.v1+notebook": {
   "computePreferences": null,
   "dashboards": [],
   "environmentMetadata": {
    "base_environment": "",
    "environment_version": "3"
   },
   "inputWidgetPreferences": null,
   "language": "python",
   "notebookMetadata": {
    "pythonIndentUnit": 4
   },
   "notebookName": "N2_Process_Sales_Data",
   "widgets": {}
  },
  "language_info": {
   "name": "python"
  }
 },
 "nbformat": 4,
 "nbformat_minor": 0
}
