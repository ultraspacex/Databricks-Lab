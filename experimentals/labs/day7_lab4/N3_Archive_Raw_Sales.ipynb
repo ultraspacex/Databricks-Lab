{
 "cells": [
  {
   "cell_type": "code",
   "execution_count": 0,
   "metadata": {
    "application/vnd.databricks.v1+cell": {
     "cellMetadata": {},
     "inputWidgets": {},
     "nuid": "d229ee3d-bef2-4e1f-8347-f1a49b826b27",
     "showTitle": false,
     "tableResultSettingsMap": {},
     "title": ""
    }
   },
   "outputs": [],
   "source": [
    "from datetime import datetime\n",
    "dbutils.widgets.text(\"sales_table_name\", \"bronze_sales\", \"Source Sales Table\")\n",
    "dbutils.widgets.text(\"archive_path_base\", \"dbfs:/FileStore/lab_data/archived_sales/\", \"Base Archive Path\")\n",
    "dbutils.widgets.text(\"database_name\", \"module2_db\", \"Database Name\")\n",
    "dbutils.widgets.text(\"validator_task_key\", \"Task_Validate_Sales\", \"Task key of the validation notebook\")\n",
    "\n",
    "sales_table = dbutils.widgets.get(\"sales_table_name\")\n",
    "archive_path_base = dbutils.widgets.get(\"archive_path_base\")\n",
    "db_name = dbutils.widgets.get(\"database_name\")\n",
    "validator_task_key = dbutils.widgets.get(\"validator_task_key\")\n",
    "full_sales_table_name = f\"{db_name}.{sales_table}\"\n",
    "\n",
    "timestamp_str = datetime.now().strftime(\"%Y%m%d%H%M%S\")\n",
    "archive_path_final = f\"{archive_path_base.rstrip('/')}/{timestamp_str}/\"\n",
    "\n",
    "print(f\"Archiving table {full_sales_table_name} to {archive_path_final}\")\n",
    "\n",
    "try:\n",
    "    # Get values for context from the validation task\n",
    "    validation_status = dbutils.jobs.taskValues.get(taskKey=validator_task_key, key=\"validation_status\", default=\"N/A_STATUS\", debugValue=\"DEBUG_ARCHIVE\")\n",
    "    source_count = dbutils.jobs.taskValues.get(taskKey=validator_task_key, key=\"source_table_record_count\", default=0, debugValue=0)\n",
    "    print(f\"Upstream validation status for context: {validation_status}\")\n",
    "    print(f\"Upstream source record count for context: {source_count}\")\n",
    "except Exception as e:\n",
    "    print(f\"Could not retrieve some task values from '{validator_task_key}': {e}.\")\n",
    "\n",
    "try:\n",
    "    df_sales = spark.table(full_sales_table_name)\n",
    "    df_sales.write.format(\"parquet\").mode(\"overwrite\").save(archive_path_final)\n",
    "    archived_count = df_sales.count()\n",
    "    print(f\"Successfully archived {archived_count} records from {full_sales_table_name} to {archive_path_final}\")\n",
    "    dbutils.jobs.taskValues.set(key=\"archived_path\", value=archive_path_final)\n",
    "    dbutils.jobs.taskValues.set(key=\"archived_count\", value=archived_count)\n",
    "    dbutils.notebook.exit(f\"Archiving task finished. Path: {archive_path_final}\")\n",
    "except Exception as e:\n",
    "    error_msg = f\"Failed to archive {full_sales_table_name}: {e}\"\n",
    "    print(error_msg)\n",
    "    dbutils.notebook.exit(error_msg)"
   ]
  }
 ],
 "metadata": {
  "application/vnd.databricks.v1+notebook": {
   "computePreferences": null,
   "dashboards": [],
   "environmentMetadata": {
    "base_environment": "",
    "environment_version": "3"
   },
   "inputWidgetPreferences": null,
   "language": "python",
   "notebookMetadata": {
    "pythonIndentUnit": 4
   },
   "notebookName": "N3_Archive_Raw_Sales",
   "widgets": {}
  },
  "language_info": {
   "name": "python"
  }
 },
 "nbformat": 4,
 "nbformat_minor": 0
}
