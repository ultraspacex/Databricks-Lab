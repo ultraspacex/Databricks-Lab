{
 "cells": [
  {
   "cell_type": "code",
   "execution_count": 0,
   "metadata": {
    "application/vnd.databricks.v1+cell": {
     "cellMetadata": {
      "byteLimit": 2048000,
      "rowLimit": 10000
     },
     "inputWidgets": {},
     "nuid": "325d2c29-ad82-410c-828d-4bffc3ffde35",
     "showTitle": false,
     "tableResultSettingsMap": {},
     "title": ""
    }
   },
   "outputs": [],
   "source": [
    "# Notebook: 00_setup_ingest_raw_data\n",
    "base_path = \"/Volumes/labdaysix/default/data/\"\n",
    "customer_csv_path = f\"{base_path}customer_demographics.csv\"\n",
    "products_csv_path = f\"{base_path}products.csv\"\n",
    "sales_csv_path = f\"{base_path}sales.csv\"\n",
    "\n",
    "db_name = \"module2_db\"\n",
    "spark.sql(f\"CREATE DATABASE IF NOT EXISTS {db_name}\")\n",
    "spark.sql(f\"USE {db_name}\")\n",
    "\n",
    "customer_table_name = \"bronze_customers\"\n",
    "products_table_name = \"bronze_products\"\n",
    "sales_table_name = \"bronze_sales\"\n",
    "\n",
    "# Ingest Customer Demographics\n",
    "df_customers = spark.read.format(\"csv\").option(\"header\", \"true\").option(\"inferSchema\", \"true\").load(customer_csv_path)\n",
    "df_customers.write.format(\"delta\").mode(\"overwrite\").saveAsTable(customer_table_name)\n",
    "\n",
    "# Ingest Products\n",
    "df_products = spark.read.format(\"csv\").option(\"header\", \"true\").option(\"inferSchema\", \"true\").load(products_csv_path)\n",
    "df_products.write.format(\"delta\").mode(\"overwrite\").saveAsTable(products_table_name)\n",
    "\n",
    "# Ingest Sales\n",
    "df_sales = spark.read.format(\"csv\").option(\"header\", \"true\").option(\"inferSchema\", \"true\").load(sales_csv_path)\n",
    "df_sales.write.format(\"delta\").mode(\"overwrite\").saveAsTable(sales_table_name)"
   ]
  }
 ],
 "metadata": {
  "application/vnd.databricks.v1+notebook": {
   "computePreferences": null,
   "dashboards": [],
   "environmentMetadata": {
    "base_environment": "",
    "environment_version": "3"
   },
   "inputWidgetPreferences": null,
   "language": "python",
   "notebookMetadata": {
    "pythonIndentUnit": 4
   },
   "notebookName": "00_setup_ingest_raw_data",
   "widgets": {}
  },
  "language_info": {
   "name": "python"
  }
 },
 "nbformat": 4,
 "nbformat_minor": 0
}
