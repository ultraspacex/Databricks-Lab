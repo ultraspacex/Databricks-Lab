{
 "cells": [
  {
   "cell_type": "code",
   "execution_count": 0,
   "metadata": {
    "application/vnd.databricks.v1+cell": {
     "cellMetadata": {},
     "inputWidgets": {},
     "nuid": "a30d386b-b5e0-469e-a24d-3c759715a8db",
     "showTitle": false,
     "tableResultSettingsMap": {},
     "title": ""
    }
   },
   "outputs": [],
   "source": [
    "dbutils.widgets.text(\"validator_task_key\", \"Task_Validate_Sales\", \"Task key of the validation notebook\")\n",
    "validator_task_key = dbutils.widgets.get(\"validator_task_key\")\n",
    "\n",
    "print(\"Handling invalid data scenario...\")\n",
    "\n",
    "try:\n",
    "    error_message = dbutils.jobs.taskValues.get(taskKey=validator_task_key, key=\"validation_error_message\", default=\"No error message provided.\", debugValue=\"Debug error message.\")\n",
    "    source_count = dbutils.jobs.taskValues.get(taskKey=validator_task_key, key=\"source_table_record_count\", default=0, debugValue=0)\n",
    "    \n",
    "    print(f\"Data validation failed for task '{validator_task_key}'.\")\n",
    "    print(f\"Source record count: {source_count}\")\n",
    "    print(f\"Error details: {error_message}\")\n",
    "    \n",
    "    # Simulate sending a notification or logging to a specific system\n",
    "    print(\"NOTIFICATION: Sales data validation failed. Please check the logs and data quality.\")\n",
    "\n",
    "    dbutils.jobs.taskValues.set(key=\"invalid_data_handling_status\", value=\"COMPLETED_NOTIFICATION\")\n",
    "    dbutils.notebook.exit(\"Invalid data handling complete. Notification simulated.\")\n",
    "\n",
    "except Exception as e:\n",
    "    print(f\"Error in N2b_Handle_Invalid_Data: {e}\")\n",
    "    dbutils.notebook.exit(f\"Failed to handle invalid data: {e}\")"
   ]
  }
 ],
 "metadata": {
  "application/vnd.databricks.v1+notebook": {
   "computePreferences": null,
   "dashboards": [],
   "environmentMetadata": {
    "base_environment": "",
    "environment_version": "3"
   },
   "inputWidgetPreferences": null,
   "language": "python",
   "notebookMetadata": {
    "pythonIndentUnit": 4
   },
   "notebookName": "N2b_Handle_Invalid_Data",
   "widgets": {}
  },
  "language_info": {
   "name": "python"
  }
 },
 "nbformat": 4,
 "nbformat_minor": 0
}
