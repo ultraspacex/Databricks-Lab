{
 "cells": [
  {
   "cell_type": "code",
   "execution_count": 0,
   "metadata": {
    "application/vnd.databricks.v1+cell": {
     "cellMetadata": {
      "byteLimit": 2048000,
      "rowLimit": 10000
     },
     "inputWidgets": {},
     "nuid": "35aae041-6eac-4acc-ac1b-cbd7f8136f17",
     "showTitle": false,
     "tableResultSettingsMap": {},
     "title": ""
    }
   },
   "outputs": [],
   "source": [
    "\n",
    "csv_path = \"/Volumes/labdaysix/default/data\"\n",
    "output_path = \"output\"\n",
    "\n",
    "sales_df = spark.read.format(\"csv\").option(\"header\", \"true\").load(f\"{csv_path}/sales.csv\")\n",
    "\n",
    "print(\"Sales Data (First 5 rows):\")\n",
    "display(sales_df.limit(5))\n",
    "\n",
    "# Output as JSON to a file for the next task\n",
    "json_output_path = f\"{csv_path}/{output_path}/sales_output.json\"\n",
    "sales_df.write.mode(\"overwrite\").json(json_output_path)\n",
    "dbutils.jobs.taskValues.set(key=\"ingested_data_json\", value=json_output_path)\n",
    "# Output the file path for the next task\n",
    "dbutils.notebook.exit(\"Ingestion complete!\")"
   ]
  }
 ],
 "metadata": {
  "application/vnd.databricks.v1+notebook": {
   "computePreferences": null,
   "dashboards": [],
   "environmentMetadata": {
    "base_environment": "",
    "environment_version": "3"
   },
   "inputWidgetPreferences": null,
   "language": "python",
   "notebookMetadata": {
    "pythonIndentUnit": 4
   },
   "notebookName": "01_ingest_sales_data",
   "widgets": {}
  },
  "language_info": {
   "name": "python"
  }
 },
 "nbformat": 4,
 "nbformat_minor": 0
}
