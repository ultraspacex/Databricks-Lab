{
 "cells": [
  {
   "cell_type": "code",
   "execution_count": 0,
   "metadata": {
    "application/vnd.databricks.v1+cell": {
     "cellMetadata": {},
     "inputWidgets": {},
     "nuid": "ea86bcb7-af20-4ff7-8ee6-755af3d11621",
     "showTitle": false,
     "tableResultSettingsMap": {},
     "title": ""
    }
   },
   "outputs": [],
   "source": [
    "%python\n",
    "dbutils.widgets.text(\"sales_json\", \"\", \"Sales JSON\")\n",
    "dbutils.widgets.text(\"demog_json\", \"\", \"Demographics JSON\")\n",
    "\n",
    "csv_path = \"/Volumes/labdaysix/default/data\"\n",
    "output_path = \"output\"\n",
    "\n",
    "# Get inputs\n",
    "sales_json = dbutils.widgets.get(\"sales_json\")\n",
    "demog_json = dbutils.widgets.get(\"demog_json\")\n",
    "\n",
    "sales_df = spark.read.json(sales_json)\n",
    "demog_df = spark.read.json(demog_json)\n",
    "\n",
    "# Clean Data (example: drop nulls)\n",
    "sales_df_clean = sales_df.na.drop()\n",
    "demog_df_clean = demog_df.na.drop()\n",
    "\n",
    "# Merge on Customer or common column (assume 'CustomerID')\n",
    "merged = sales_df_clean.join(demog_df_clean, \"CustomerID\", \"inner\")\n",
    "print(\"Merged Data (First 5 rows):\")\n",
    "display(merged.limit(5))\n",
    "\n",
    "# Output as JSON for next task using dbutils.jobs.taskValues.set()\n",
    "json_output_path = f\"{csv_path}/{output_path}/merge_output.json\"\n",
    "merged.write.mode(\"overwrite\").json(json_output_path)\n",
    "\n",
    "dbutils.jobs.taskValues.set(key=\"merged_data_json\", value=json_output_path)\n",
    "\n",
    "# Output for reporting\n",
    "dbutils.notebook.exit(\"Merge Complete!\")"
   ]
  }
 ],
 "metadata": {
  "application/vnd.databricks.v1+notebook": {
   "computePreferences": null,
   "dashboards": [],
   "environmentMetadata": {
    "base_environment": "",
    "environment_version": "3"
   },
   "inputWidgetPreferences": null,
   "language": "python",
   "notebookMetadata": {
    "pythonIndentUnit": 4
   },
   "notebookName": "03_transform_and_merge",
   "widgets": {}
  },
  "language_info": {
   "name": "python"
  }
 },
 "nbformat": 4,
 "nbformat_minor": 0
}
