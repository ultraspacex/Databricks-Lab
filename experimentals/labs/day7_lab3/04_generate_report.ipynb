{
 "cells": [
  {
   "cell_type": "code",
   "execution_count": 0,
   "metadata": {
    "application/vnd.databricks.v1+cell": {
     "cellMetadata": {},
     "inputWidgets": {},
     "nuid": "5668ed57-b5c9-4013-92ba-2c4320919c8f",
     "showTitle": false,
     "tableResultSettingsMap": {},
     "title": ""
    }
   },
   "outputs": [],
   "source": [
    "# Receive merged data path from previous notebook\n",
    "dbutils.widgets.text(\"merged_json\", \"\", \"Merged Data Path\")\n",
    "merged_path = dbutils.widgets.get(\"merged_json\")\n",
    "\n",
    "# Read merged data as a Spark DataFrame\n",
    "final_merged = spark.read.json(merged_path)\n",
    "\n",
    "# Check for column names and map them to correct capitalization\n",
    "columns = [c.lower() for c in final_merged.columns]\n",
    "if \"region\" not in columns:\n",
    "    raise Exception(\"Column 'Region' not found in merged data.\")\n",
    "# Find the real column name (to support any capitalization)\n",
    "region_col = [c for c in final_merged.columns if c.lower() == \"region\"][0]\n",
    "unit_price_col = [c for c in final_merged.columns if c.lower() == \"unitprice\"][0]\n",
    "\n",
    "from pyspark.sql.functions import col, sum as spark_sum, countDistinct\n",
    "\n",
    "# Group and aggregate\n",
    "report = (\n",
    "    final_merged\n",
    "    .groupBy(region_col)\n",
    "    .agg(\n",
    "        spark_sum(unit_price_col).alias(\"TotalSales\"),\n",
    "        countDistinct(\"SalesOrderNumber\").alias(\"OrderCount\")\n",
    "    )\n",
    "    .orderBy(col(\"TotalSales\").desc())\n",
    ")\n",
    "print(\"\")\n",
    "display(report)\n",
    "\n",
    "# Save report to CSV (single file)\n",
    "report_path = \"/Volumes/labdaysix/default/data/output/region_sales_report.csv\"\n",
    "report.coalesce(1).write.mode(\"overwrite\").option(\"header\", True).csv(report_path)\n",
    "\n",
    "# Output row count for next task\n",
    "row_count = report.count()\n",
    "display(row_count)\n",
    "#dbutils.notebook.exit(\"Report Generated!\")\n"
   ]
  }
 ],
 "metadata": {
  "application/vnd.databricks.v1+notebook": {
   "computePreferences": null,
   "dashboards": [],
   "environmentMetadata": {
    "base_environment": "",
    "environment_version": "3"
   },
   "inputWidgetPreferences": null,
   "language": "python",
   "notebookMetadata": {
    "pythonIndentUnit": 4
   },
   "notebookName": "04_generate_report",
   "widgets": {}
  },
  "language_info": {
   "name": "python"
  }
 },
 "nbformat": 4,
 "nbformat_minor": 0
}
