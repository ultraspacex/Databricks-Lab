{
 "cells": [
  {
   "cell_type": "code",
   "execution_count": 0,
   "metadata": {
    "application/vnd.databricks.v1+cell": {
     "cellMetadata": {
      "byteLimit": 2048000,
      "rowLimit": 10000
     },
     "inputWidgets": {},
     "nuid": "7c5cfe04-5a99-47fb-9643-62b7174def45",
     "showTitle": false,
     "tableResultSettingsMap": {},
     "title": ""
    }
   },
   "outputs": [],
   "source": [
    "csv_path = \"/Volumes/labdaysix/default/data\"\n",
    "output_path = \"output\"\n",
    "\n",
    "demog_path = f'{csv_path}/customer_demographics.csv'\n",
    "demog_df = spark.read.option(\"header\", True)\\\n",
    "    .option(\"escape\", '\"')\\\n",
    "    .option(\"quote\", '\"')\\\n",
    "    .option(\"multiLine\", True)\\\n",
    "    .option(\"inferSchema\", True).csv(demog_path)\n",
    "\n",
    "print(\"Customer Demographics (First 5 rows):\")\n",
    "display(demog_df.limit(5))\n",
    "\n",
    "customer_path = f'{csv_path}/customer_details.csv'\n",
    "customer_df = spark.read.option(\"header\", True)\\\n",
    "    .option(\"escape\", '\"')\\\n",
    "    .option(\"quote\", '\"')\\\n",
    "    .option(\"multiLine\", True)\\\n",
    "    .option(\"inferSchema\", True).csv(customer_path)\n",
    "\n",
    "print(\"Customer Details (First 5 rows):\")\n",
    "display(customer_df.limit(5))\n",
    "\n",
    "merged = demog_df.join(customer_df, \"CustomerName\", \"inner\")\n",
    "print(\"Merged Data (First 5 rows):\")\n",
    "display(merged.limit(5))\n",
    "\n",
    "# Output as JSON for next task using dbutils.jobs.taskValues.set()\n",
    "json_output_path = f\"{csv_path}/{output_path}/customer_output.json\"\n",
    "merged.write.mode(\"overwrite\").json(json_output_path)\n",
    "\n",
    "dbutils.jobs.taskValues.set(key=\"ingested_customer_data_json\", value=json_output_path)\n",
    "\n",
    "# Output the file path for the next task\n",
    "dbutils.notebook.exit(\"Customer Ingestion Complete!\")"
   ]
  }
 ],
 "metadata": {
  "application/vnd.databricks.v1+notebook": {
   "computePreferences": null,
   "dashboards": [],
   "environmentMetadata": {
    "base_environment": "",
    "environment_version": "3"
   },
   "inputWidgetPreferences": null,
   "language": "python",
   "notebookMetadata": {
    "pythonIndentUnit": 4
   },
   "notebookName": "02_ingest_customer_data",
   "widgets": {}
  },
  "language_info": {
   "name": "python"
  }
 },
 "nbformat": 4,
 "nbformat_minor": 0
}
