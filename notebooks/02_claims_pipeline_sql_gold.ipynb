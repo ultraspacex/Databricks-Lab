{
 "cells": [
  {
   "cell_type": "code",
   "execution_count": 0,
   "metadata": {
    "application/vnd.databricks.v1+cell": {
     "cellMetadata": {},
     "inputWidgets": {},
     "nuid": "270af61f-7a2d-4c57-9b94-b9ffce2f3a05",
     "showTitle": false,
     "tableResultSettingsMap": {},
     "title": ""
    }
   },
   "outputs": [],
   "source": [
    "CREATE OR REFRESH MATERIALIZED VIEW silver.claims\n",
    "COMMENT \"Fully enriched claims data with diagnosis descriptions.\"\n",
    "AS\n",
    "WITH diagnosis_descriptions AS (\n",
    "  SELECT\n",
    "    ClaimID,\n",
    "    collect_list(d.Description) as DiagnosisDescriptions\n",
    "  FROM (\n",
    "    SELECT\n",
    "      ClaimID,\n",
    "      explode(split(ICD10Codes, ';')) as ICD10Code\n",
    "    FROM silver.claims_base\n",
    "  ) c\n",
    "  LEFT JOIN bronze.diagnosis_ref d ON c.ICD10Code = d.Code\n",
    "  GROUP BY ClaimID\n",
    ")\n",
    "SELECT\n",
    "  base.*,\n",
    "  desc.DiagnosisDescriptions\n",
    "FROM silver.claims_base base\n",
    "LEFT JOIN diagnosis_descriptions desc ON base.ClaimID = desc.ClaimID;"
   ]
  },
  {
   "cell_type": "code",
   "execution_count": 0,
   "metadata": {
    "application/vnd.databricks.v1+cell": {
     "cellMetadata": {},
     "inputWidgets": {},
     "nuid": "1a862c68-2c08-4de1-87ff-96489d99ceee",
     "showTitle": false,
     "tableResultSettingsMap": {},
     "title": ""
    }
   },
   "outputs": [],
   "source": [
    "CREATE OR REFRESH MATERIALIZED VIEW gold.claims_monthly_summary\n",
    "COMMENT \"Materialized view for monthly claims summary by region and type.\"\n",
    "AS\n",
    "SELECT\n",
    "  window(ClaimDate, \"30 days\") as month_window,\n",
    "  MemberRegion,\n",
    "  ClaimType,\n",
    "  COUNT(ClaimID) as number_of_claims,\n",
    "  SUM(Amount) as total_amount\n",
    "FROM\n",
    "  silver.claims  \n",
    "GROUP BY\n",
    "  window(ClaimDate, \"30 days\"),\n",
    "  MemberRegion,\n",
    "  ClaimType;\n"
   ]
  },
  {
   "cell_type": "code",
   "execution_count": 0,
   "metadata": {
    "application/vnd.databricks.v1+cell": {
     "cellMetadata": {},
     "inputWidgets": {},
     "nuid": "49cb16aa-c76d-4c8c-a004-e25147799d35",
     "showTitle": false,
     "tableResultSettingsMap": {},
     "title": ""
    }
   },
   "outputs": [],
   "source": [
    "CREATE OR REFRESH MATERIALIZED VIEW gold.fraud_alerts\n",
    "COMMENT \"Materialized view for claims flagged with a high potential fraud score.\"\n",
    "AS\n",
    "WITH scored_claims AS (\n",
    "  SELECT\n",
    "    *,\n",
    "    CASE WHEN Amount > 4500 THEN 50 ELSE 0 END +\n",
    "    CASE WHEN dayofweek(ClaimDate) IN (1, 7) THEN 25 ELSE 0 END +\n",
    "    CASE WHEN Status = 'Rejected' THEN 10 ELSE 0 END as fraud_score\n",
    "  FROM\n",
    "    silver.claims  \n",
    ")\n",
    "SELECT * FROM scored_claims\n",
    "WHERE fraud_score > 25;"
   ]
  }
 ],
 "metadata": {
  "application/vnd.databricks.v1+notebook": {
   "computePreferences": null,
   "dashboards": [],
   "environmentMetadata": {
    "base_environment": "",
    "environment_version": "3"
   },
   "inputWidgetPreferences": null,
   "language": "sql",
   "notebookMetadata": {
    "pythonIndentUnit": 4
   },
   "notebookName": "02_claims_pipeline_sql_gold",
   "widgets": {}
  },
  "language_info": {
   "name": "sql"
  }
 },
 "nbformat": 4,
 "nbformat_minor": 0
}
