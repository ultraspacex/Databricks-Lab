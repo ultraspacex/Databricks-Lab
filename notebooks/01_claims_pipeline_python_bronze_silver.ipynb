{
 "cells": [
  {
   "cell_type": "code",
   "execution_count": 0,
   "metadata": {
    "application/vnd.databricks.v1+cell": {
     "cellMetadata": {},
     "inputWidgets": {},
     "nuid": "0cb091f7-7e7d-4d5d-bbf8-ff0904b620cb",
     "showTitle": false,
     "tableResultSettingsMap": {},
     "title": ""
    }
   },
   "outputs": [],
   "source": [
    "import dlt\n",
    "from pyspark.sql.functions import *"
   ]
  },
  {
   "cell_type": "code",
   "execution_count": 0,
   "metadata": {
    "application/vnd.databricks.v1+cell": {
     "cellMetadata": {},
     "inputWidgets": {},
     "nuid": "a30506ce-e765-4765-89b8-6a53c62aef91",
     "showTitle": false,
     "tableResultSettingsMap": {},
     "title": ""
    }
   },
   "outputs": [],
   "source": [
    "VOLUME_PATH = \"/Volumes/healthcare/default/data\""
   ]
  },
  {
   "cell_type": "markdown",
   "metadata": {
    "application/vnd.databricks.v1+cell": {
     "cellMetadata": {},
     "inputWidgets": {},
     "nuid": "e6ef144e-38e8-478e-a50f-95e2a3e3499c",
     "showTitle": false,
     "tableResultSettingsMap": {},
     "title": ""
    }
   },
   "source": [
    "**Bronze**"
   ]
  },
  {
   "cell_type": "code",
   "execution_count": 0,
   "metadata": {
    "application/vnd.databricks.v1+cell": {
     "cellMetadata": {},
     "inputWidgets": {},
     "nuid": "adac4efd-c22c-459d-9f74-a2e7d88a4401",
     "showTitle": false,
     "tableResultSettingsMap": {},
     "title": ""
    }
   },
   "outputs": [],
   "source": [
    "@dlt.table(name=\"bronze.claims_batch\", \n",
    "        comment=\"Raw historical claims from batch CSV files.\",\n",
    "        table_properties={\n",
    "            \"quality\": \"bronze\"\n",
    "        }\n",
    "    )\n",
    "def bronze_claims_batch():\n",
    "    return (\n",
    "        spark.read.format(\"csv\").option(\"header\", \"true\").option(\"inferSchema\", \"true\")\n",
    "        .load(f\"{VOLUME_PATH}/claims_batch.csv\")\n",
    "    )\n",
    "\n",
    "@dlt.table(name=\"bronze.claims_stream\", \n",
    "        comment=\"New claims from streaming JSON files.\",\n",
    "        table_properties={\n",
    "            \"quality\": \"bronze\"\n",
    "        }\n",
    "    )\n",
    "def bronze_claims_stream():\n",
    "    return (\n",
    "        spark.read.format(\"json\").option(\"multiline\", \"true\")\n",
    "        .load(f\"{VOLUME_PATH}/claims_stream.json\")\n",
    "    )\n",
    "\n",
    "@dlt.table(name=\"bronze.members\", \n",
    "        comment=\"Raw members master data from CSV.\"\n",
    "        ,\n",
    "        table_properties={\n",
    "            \"quality\": \"bronze\"\n",
    "        }\n",
    "    )\n",
    "def bronze_members():\n",
    "    return (\n",
    "        spark.read.format(\"csv\").option(\"header\", \"true\").option(\"inferSchema\", \"true\")\n",
    "        .load(f\"{VOLUME_PATH}/members.csv\")\n",
    "    )\n",
    "\n",
    "@dlt.table(name=\"bronze.providers\", \n",
    "        comment=\"Raw providers directory data from JSON.\",\n",
    "        table_properties={\n",
    "            \"quality\": \"bronze\"\n",
    "        }\n",
    "    )\n",
    "def bronze_providers():\n",
    "    return (\n",
    "        spark.read.format(\"json\").option(\"multiline\", \"true\")\n",
    "        .load(f\"{VOLUME_PATH}/providers.json\")\n",
    "    )\n",
    "\n",
    "@dlt.table(name=\"bronze.diagnosis_ref\",\n",
    "        comment=\"Reference data for diagnosis codes (ICD-10).\",\n",
    "        table_properties={\n",
    "            \"quality\": \"bronze\"\n",
    "        }\n",
    "    )\n",
    "def bronze_diagnosis_ref():\n",
    "    return (\n",
    "        spark.read.format(\"csv\").option(\"header\", \"true\").option(\"inferSchema\", \"true\")\n",
    "        .load(f\"{VOLUME_PATH}/diagnosis_ref.csv\")\n",
    "    )\n"
   ]
  },
  {
   "cell_type": "markdown",
   "metadata": {
    "application/vnd.databricks.v1+cell": {
     "cellMetadata": {},
     "inputWidgets": {},
     "nuid": "ed35abaa-0dd3-4468-9dbd-251a5f8b8b55",
     "showTitle": false,
     "tableResultSettingsMap": {},
     "title": ""
    }
   },
   "source": [
    "**Silver**"
   ]
  },
  {
   "cell_type": "code",
   "execution_count": 0,
   "metadata": {
    "application/vnd.databricks.v1+cell": {
     "cellMetadata": {},
     "inputWidgets": {},
     "nuid": "7d6e4cb4-5e28-40da-9653-ac6538d5dddf",
     "showTitle": false,
     "tableResultSettingsMap": {},
     "title": ""
    }
   },
   "outputs": [],
   "source": [
    "@dlt.view(\n",
    "    name=\"claims_prepared_base\",\n",
    "    comment=\"Intermediate view for base claims enrichment (member, provider).\"\n",
    ")\n",
    "def claims_prepared_base():\n",
    "    batch_claims = dlt.read_stream(\"bronze.claims_batch\")\n",
    "    stream_claims = dlt.read_stream(\"bronze.claims_stream\")\n",
    "    all_claims = batch_claims.unionByName(stream_claims, allowMissingColumns=True)\n",
    "\n",
    "    members = dlt.read(\"bronze.members\")\n",
    "    providers = dlt.read(\"bronze.providers\")\n",
    "\n",
    "    return (\n",
    "        all_claims.alias(\"c\")\n",
    "        .join(members.alias(\"m\"), \"MemberID\", \"inner\")\n",
    "        .join(providers.alias(\"p\"), \"ProviderID\", \"inner\")\n",
    "        .withColumn(\"timestamp\", coalesce(col(\"c.EventTimestamp\"), col(\"c.IngestTimestamp\")).cast(\"timestamp\"))\n",
    "        .select(\n",
    "            col(\"c.ClaimID\"), col(\"c.MemberID\"), col(\"m.Name\").alias(\"MemberName\"),\n",
    "            col(\"m.Region\").alias(\"MemberRegion\"), col(\"c.ProviderID\"),\n",
    "            col(\"p.Name\").alias(\"ProviderName\"), col(\"c.ClaimDate\").cast(\"date\"),\n",
    "            col(\"c.Amount\").cast(\"double\"), col(\"c.Status\"), col(\"c.ClaimType\"),\n",
    "            col(\"c.ICD10Codes\"), col(\"timestamp\")\n",
    "        )\n",
    "    )\n",
    "\n",
    "dlt.create_streaming_live_table(\n",
    "    name=\"silver.claims_base\",\n",
    "    comment=\"Base cleansed claims data before complex aggregations.\"\n",
    ")\n",
    "\n",
    "dlt.apply_changes(\n",
    "    target=\"silver.claims_base\",\n",
    "    source=\"claims_prepared_base\",\n",
    "    keys=[\"ClaimID\"],\n",
    "    sequence_by=col(\"timestamp\"),\n",
    "    stored_as_scd_type=1\n",
    ")"
   ]
  }
 ],
 "metadata": {
  "application/vnd.databricks.v1+notebook": {
   "computePreferences": null,
   "dashboards": [],
   "environmentMetadata": {
    "base_environment": "",
    "environment_version": "3"
   },
   "inputWidgetPreferences": null,
   "language": "python",
   "notebookMetadata": {
    "pythonIndentUnit": 4
   },
   "notebookName": "01_claims_pipeline_python_bronze_silver",
   "widgets": {}
  },
  "language_info": {
   "name": "python"
  }
 },
 "nbformat": 4,
 "nbformat_minor": 0
}
