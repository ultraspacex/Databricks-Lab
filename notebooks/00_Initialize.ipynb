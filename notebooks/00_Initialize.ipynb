{
 "cells": [
  {
   "cell_type": "markdown",
   "metadata": {
    "application/vnd.databricks.v1+cell": {
     "cellMetadata": {},
     "inputWidgets": {},
     "nuid": "a4a8116d-a584-4f65-92ce-dc2b5aa13e4d",
     "showTitle": false,
     "tableResultSettingsMap": {},
     "title": ""
    }
   },
   "source": [
    "Clean all schema"
   ]
  },
  {
   "cell_type": "code",
   "execution_count": 0,
   "metadata": {
    "application/vnd.databricks.v1+cell": {
     "cellMetadata": {},
     "inputWidgets": {},
     "nuid": "9776b34a-64ca-40ca-b482-201c2ce151d1",
     "showTitle": false,
     "tableResultSettingsMap": {},
     "title": ""
    }
   },
   "outputs": [],
   "source": [
    "spark.sql(\"DROP SCHEMA IF EXISTS healthcare.bronze CASCADE\")\n",
    "spark.sql(\"DROP SCHEMA IF EXISTS healthcare.silver CASCADE\")\n",
    "spark.sql(\"DROP SCHEMA IF EXISTS healthcare.gold CASCADE\")"
   ]
  },
  {
   "cell_type": "markdown",
   "metadata": {
    "application/vnd.databricks.v1+cell": {
     "cellMetadata": {},
     "inputWidgets": {},
     "nuid": "51c4f556-be68-4fc6-a3ca-da0aac83166f",
     "showTitle": false,
     "tableResultSettingsMap": {},
     "title": ""
    }
   },
   "source": [
    "Create a new Schema"
   ]
  },
  {
   "cell_type": "code",
   "execution_count": 0,
   "metadata": {
    "application/vnd.databricks.v1+cell": {
     "cellMetadata": {
      "byteLimit": 2048000,
      "implicitDf": true,
      "rowLimit": 10000
     },
     "inputWidgets": {},
     "nuid": "66919d97-77c8-42b4-9dda-d1408f366b47",
     "showTitle": false,
     "tableResultSettingsMap": {},
     "title": ""
    }
   },
   "outputs": [],
   "source": [
    "%sql \n",
    "CREATE CATALOG IF NOT EXISTS healthcare;\n",
    "USE CATALOG healthcare;\n",
    "CREATE SCHEMA IF NOT EXISTS bronze;\n",
    "CREATE SCHEMA IF NOT EXISTS silver;\n",
    "CREATE SCHEMA IF NOT EXISTS gold;"
   ]
  },
  {
   "cell_type": "code",
   "execution_count": 0,
   "metadata": {
    "application/vnd.databricks.v1+cell": {
     "cellMetadata": {
      "byteLimit": 2048000,
      "implicitDf": true,
      "rowLimit": 10000
     },
     "inputWidgets": {},
     "nuid": "131811f9-fe31-4d87-a52a-5ed769c30293",
     "showTitle": false,
     "tableResultSettingsMap": {},
     "title": ""
    }
   },
   "outputs": [],
   "source": [
    "%sql \n",
    "-- GRANT USE_CATALOG ON CATALOG healthcare TO `data_engineers`;\n",
    "-- GRANT USE_SCHEMA, CREATE_TABLE ON SCHEMA bronze TO `data_engineers`;\n",
    "-- GRANT USE_SCHEMA, CREATE_TABLE ON SCHEMA silver TO `data_engineers`;\n",
    "-- GRANT USE_SCHEMA, CREATE_TABLE ON SCHEMA gold TO `data_engineers`;\n",
    "\n",
    "-- GRANT USE_CATALOG ON CATALOG healthcare TO `data_analysts`;\n",
    "-- GRANT USE_SCHEMA ON SCHEMA gold TO `data_analysts`;\n",
    "-- GRANT SELECT ON SCHEMA gold TO `data_analysts`;"
   ]
  }
 ],
 "metadata": {
  "application/vnd.databricks.v1+notebook": {
   "computePreferences": null,
   "dashboards": [],
   "environmentMetadata": {
    "base_environment": "",
    "environment_version": "3"
   },
   "inputWidgetPreferences": null,
   "language": "python",
   "notebookMetadata": {
    "mostRecentlyExecutedCommandWithImplicitDF": {
     "commandId": 7352365911693889,
     "dataframes": [
      "_sqldf"
     ]
    },
    "pythonIndentUnit": 4
   },
   "notebookName": "00_Initialize",
   "widgets": {}
  },
  "language_info": {
   "name": "python"
  }
 },
 "nbformat": 4,
 "nbformat_minor": 0
}
