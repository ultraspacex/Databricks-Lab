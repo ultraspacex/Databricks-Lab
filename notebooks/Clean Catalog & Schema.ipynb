{
 "cells": [
  {
   "cell_type": "code",
   "execution_count": 0,
   "metadata": {
    "application/vnd.databricks.v1+cell": {
     "cellMetadata": {
      "byteLimit": 2048000,
      "rowLimit": 10000
     },
     "inputWidgets": {},
     "nuid": "80fb6521-cabe-41a3-bc82-ff10639a8402",
     "showTitle": false,
     "tableResultSettingsMap": {},
     "title": ""
    }
   },
   "outputs": [],
   "source": [
    "\n",
    "# spark.sql(\"DROP CATALOG IF EXISTS healthcare CASCADE\")\n",
    "\n",
    "spark.sql(\"DROP SCHEMA IF EXISTS healthcare.bronze CASCADE\")\n",
    "spark.sql(\"DROP SCHEMA IF EXISTS healthcare.silver CASCADE\")\n",
    "spark.sql(\"DROP SCHEMA IF EXISTS healthcare.gold CASCADE\")"
   ]
  }
 ],
 "metadata": {
  "application/vnd.databricks.v1+notebook": {
   "computePreferences": null,
   "dashboards": [],
   "environmentMetadata": {
    "base_environment": "",
    "environment_version": "3"
   },
   "inputWidgetPreferences": null,
   "language": "python",
   "notebookMetadata": {
    "pythonIndentUnit": 4
   },
   "notebookName": "Clean Catalog & Schema",
   "widgets": {}
  },
  "language_info": {
   "name": "python"
  }
 },
 "nbformat": 4,
 "nbformat_minor": 0
}
