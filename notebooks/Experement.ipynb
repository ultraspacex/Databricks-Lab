{
 "cells": [
  {
   "cell_type": "markdown",
   "metadata": {
    "application/vnd.databricks.v1+cell": {
     "cellMetadata": {},
     "inputWidgets": {},
     "nuid": "dc274634-dd93-4421-90bc-c736e32209ab",
     "showTitle": false,
     "tableResultSettingsMap": {},
     "title": ""
    }
   },
   "source": [
    "Ingest Data Sources & Create Views"
   ]
  },
  {
   "cell_type": "code",
   "execution_count": 0,
   "metadata": {
    "application/vnd.databricks.v1+cell": {
     "cellMetadata": {
      "byteLimit": 2048000,
      "rowLimit": 10000
     },
     "inputWidgets": {},
     "nuid": "9765f586-0aef-4e43-858d-550bf182eaec",
     "showTitle": false,
     "tableResultSettingsMap": {},
     "title": ""
    }
   },
   "outputs": [],
   "source": [
    "# Path\n",
    "volume_path = \"/Volumes/healthcareclaims/default/data\"\n",
    "\n",
    "# 1. Ingest data from CSV and JSON into DataFrame\n",
    "claims_df = spark.read.format(\"csv\").option(\"header\", \"true\").option(\"inferSchema\", \"true\").load(f\"{volume_path}/claims_batch.csv\")\n",
    "members_df = spark.read.format(\"csv\").option(\"header\", \"true\").option(\"inferSchema\", \"true\").load(f\"{volume_path}/members.csv\")\n",
    "providers_df = spark.read.format(\"json\").option(\"multiline\", \"true\").load(f\"{volume_path}/providers.json\")\n",
    "diagnosis_df = spark.read.format(\"csv\").option(\"header\", \"true\").option(\"inferSchema\", \"true\").load(f\"{volume_path}/diagnosis_ref.csv\")\n",
    "\n",
    "# Create temporary Views from DataFrames\n",
    "claims_df.createOrReplaceTempView(\"raw_claims_vw\")\n",
    "members_df.createOrReplaceTempView(\"raw_members_vw\")\n",
    "providers_df.createOrReplaceTempView(\"raw_providers_vw\")\n",
    "diagnosis_df.createOrReplaceTempView(\"raw_diagnosis_vw\")"
   ]
  },
  {
   "cell_type": "markdown",
   "metadata": {
    "application/vnd.databricks.v1+cell": {
     "cellMetadata": {},
     "inputWidgets": {},
     "nuid": "8b057415-06a1-4207-ba1b-d18f2efcde83",
     "showTitle": false,
     "tableResultSettingsMap": {},
     "title": ""
    }
   },
   "source": [
    " Data Profiling & Cleansing"
   ]
  },
  {
   "cell_type": "code",
   "execution_count": 0,
   "metadata": {
    "application/vnd.databricks.v1+cell": {
     "cellMetadata": {
      "byteLimit": 2048000,
      "rowLimit": 10000
     },
     "inputWidgets": {},
     "nuid": "1ed2a09a-024d-45d0-9955-734ccc27a2af",
     "showTitle": false,
     "tableResultSettingsMap": {},
     "title": ""
    }
   },
   "outputs": [],
   "source": [
    "deduplicated_claims_sql = \"\"\"\n",
    "WITH NumberedClaims AS (\n",
    "  SELECT\n",
    "    *,\n",
    "    ROW_NUMBER() OVER(PARTITION BY ClaimID, MemberID, ProviderID ORDER BY IngestTimestamp DESC) as rn\n",
    "  FROM raw_claims_vw\n",
    ")\n",
    "SELECT * FROM NumberedClaims WHERE rn = 1\n",
    "\"\"\"\n",
    "deduplicated_claims_df = spark.sql(deduplicated_claims_sql)\n",
    "deduplicated_claims_df.createOrReplaceTempView(\"deduplicated_claims_vw\")\n",
    "\n",
    "# filter out: null\n",
    "spark.sql(\"\"\"\n",
    "  SELECT *\n",
    "  FROM deduplicated_claims_vw\n",
    "  WHERE ClaimID IS NOT NULL AND MemberID IS NOT NULL AND ProviderID IS NOT NULL\n",
    "\"\"\").createOrReplaceTempView(\"cleansed_claims_vw\") "
   ]
  },
  {
   "cell_type": "code",
   "execution_count": 0,
   "metadata": {
    "application/vnd.databricks.v1+cell": {
     "cellMetadata": {
      "byteLimit": 2048000,
      "implicitDf": true,
      "rowLimit": 10000
     },
     "inputWidgets": {},
     "nuid": "740c7604-4029-440a-85f1-a2b3e01be88a",
     "showTitle": false,
     "tableResultSettingsMap": {},
     "title": ""
    }
   },
   "outputs": [],
   "source": [
    "%sql\n",
    "CREATE OR REPLACE TEMP VIEW cleansed_typed_claims_vw AS\n",
    "SELECT\n",
    "  ClaimID,\n",
    "  MemberID,\n",
    "  ProviderID,\n",
    "  CAST(ClaimDate AS DATE) AS ClaimDate,\n",
    "  CAST(ServiceDate AS DATE) AS ServiceDate,\n",
    "  CAST(Amount AS DOUBLE) AS Amount,\n",
    "  Status,\n",
    "  ICD10Codes,\n",
    "  CPTCodes,\n",
    "  ClaimType\n",
    "FROM cleansed_claims_vw;\n",
    "\n",
    "SELECT * FROM cleansed_typed_claims_vw LIMIT 5;"
   ]
  },
  {
   "cell_type": "markdown",
   "metadata": {
    "application/vnd.databricks.v1+cell": {
     "cellMetadata": {},
     "inputWidgets": {},
     "nuid": "3b2369a4-21c5-41ad-b4b1-94745f9bfe18",
     "showTitle": false,
     "tableResultSettingsMap": {},
     "title": ""
    }
   },
   "source": [
    "Key Validation"
   ]
  },
  {
   "cell_type": "code",
   "execution_count": 0,
   "metadata": {
    "application/vnd.databricks.v1+cell": {
     "cellMetadata": {
      "byteLimit": 2048000,
      "implicitDf": true,
      "rowLimit": 10000
     },
     "inputWidgets": {},
     "nuid": "5ededc4d-2802-4769-b0e8-e8996594821d",
     "showTitle": false,
     "tableResultSettingsMap": {},
     "title": ""
    }
   },
   "outputs": [],
   "source": [
    "%sql\n",
    "-- check duplicate\n",
    "SELECT\n",
    "  ClaimID, MemberID, ProviderID,\n",
    "  COUNT(*) as occurrences\n",
    "FROM cleansed_typed_claims_vw\n",
    "GROUP BY ClaimID, MemberID, ProviderID\n",
    "HAVING COUNT(*) > 1;\n",
    "\n",
    "-- expected returned rows = No rows returned"
   ]
  },
  {
   "cell_type": "code",
   "execution_count": 0,
   "metadata": {
    "application/vnd.databricks.v1+cell": {
     "cellMetadata": {
      "byteLimit": 2048000,
      "implicitDf": true,
      "rowLimit": 10000
     },
     "inputWidgets": {},
     "nuid": "7c96e835-e4f7-409b-bb98-e6542dad54c6",
     "showTitle": false,
     "tableResultSettingsMap": {},
     "title": ""
    }
   },
   "outputs": [],
   "source": [
    "%sql \n",
    "SELECT c.ClaimID, c.MemberID\n",
    "FROM cleansed_typed_claims_vw c\n",
    "LEFT ANTI JOIN raw_members_vw m ON c.MemberID = m.MemberID;\n",
    "\n",
    "-- expected returned rows = No rows returned"
   ]
  },
  {
   "cell_type": "markdown",
   "metadata": {
    "application/vnd.databricks.v1+cell": {
     "cellMetadata": {},
     "inputWidgets": {},
     "nuid": "313df108-5551-498c-9ac3-11c9f0d6847d",
     "showTitle": false,
     "tableResultSettingsMap": {},
     "title": ""
    }
   },
   "source": [
    "Parse Nested JSON & Enrich Data"
   ]
  },
  {
   "cell_type": "code",
   "execution_count": 0,
   "metadata": {
    "application/vnd.databricks.v1+cell": {
     "cellMetadata": {
      "byteLimit": 2048000,
      "implicitDf": true,
      "rowLimit": 10000
     },
     "inputWidgets": {},
     "nuid": "0fe94505-f49c-4cc3-aa60-1f0c660bab51",
     "showTitle": false,
     "tableResultSettingsMap": {},
     "title": ""
    }
   },
   "outputs": [],
   "source": [
    "%sql\n",
    "CREATE OR REPLACE TEMP VIEW providers_exploded_vw AS\n",
    "SELECT\n",
    "  ProviderID,\n",
    "  Name,\n",
    "  IsActive,\n",
    "  TIN,\n",
    "  explode(Specialties) as Specialty,\n",
    "  explode(Locations) as Location\n",
    "FROM raw_providers_vw;\n",
    "\n",
    "-- Join ตารางทั้งหมดเข้าด้วยกันเพื่อสร้าง Enriched View\n",
    "CREATE OR REPLACE TEMP VIEW enriched_claims_vw AS\n",
    "SELECT\n",
    "  c.ClaimID,\n",
    "  c.ClaimDate,\n",
    "  c.Amount,\n",
    "  c.Status,\n",
    "  c.ClaimType,\n",
    "  m.Name AS MemberName,\n",
    "  m.Region AS MemberRegion,\n",
    "  m.PlanType,\n",
    "  p.Name AS ProviderName,\n",
    "  p.Specialty AS ProviderSpecialty,\n",
    "  p.Location.City AS ProviderCity,\n",
    "  p.Location.State AS ProviderState\n",
    "FROM cleansed_typed_claims_vw c\n",
    "JOIN raw_members_vw m ON c.MemberID = m.MemberID\n",
    "JOIN providers_exploded_vw p ON c.ProviderID = p.ProviderID;\n",
    "\n",
    "SELECT * FROM enriched_claims_vw LIMIT 10;"
   ]
  },
  {
   "cell_type": "markdown",
   "metadata": {
    "application/vnd.databricks.v1+cell": {
     "cellMetadata": {},
     "inputWidgets": {},
     "nuid": "376ff511-3147-4035-87f2-f8dadbb81467",
     "showTitle": false,
     "tableResultSettingsMap": {},
     "title": ""
    }
   },
   "source": [
    "Pivot Data for Reporting"
   ]
  },
  {
   "cell_type": "code",
   "execution_count": 0,
   "metadata": {
    "application/vnd.databricks.v1+cell": {
     "cellMetadata": {
      "byteLimit": 2048000,
      "rowLimit": 10000
     },
     "inputWidgets": {},
     "nuid": "0e565bfa-8c63-4a88-9570-3b62dfab7512",
     "showTitle": false,
     "tableResultSettingsMap": {},
     "title": ""
    }
   },
   "outputs": [],
   "source": [
    "# Read data from Enriched View\n",
    "enriched_df = spark.table(\"enriched_claims_vw\")\n",
    "\n",
    "# Pivot data for the report\n",
    "pivot_df = (enriched_df\n",
    "            .groupBy(\"MemberRegion\")\n",
    "            .pivot(\"ClaimType\", [\"Inpatient\", \"Outpatient\", \"Pharmacy\", \"Dental\"]) # pivot columns\n",
    "            .sum(\"Amount\")  \n",
    "            .na.fill(0)) # fill 0 if null or empty\n",
    "\n",
    "pivot_df.show()"
   ]
  },
  {
   "cell_type": "markdown",
   "metadata": {
    "application/vnd.databricks.v1+cell": {
     "cellMetadata": {},
     "inputWidgets": {},
     "nuid": "9148ecab-f969-43a1-ab1f-c3ab555819ba",
     "showTitle": false,
     "tableResultSettingsMap": {},
     "title": ""
    }
   },
   "source": [
    "Fraud Scoring with CASE/WHEN and UDF"
   ]
  },
  {
   "cell_type": "code",
   "execution_count": 0,
   "metadata": {
    "application/vnd.databricks.v1+cell": {
     "cellMetadata": {
      "byteLimit": 2048000,
      "implicitDf": true,
      "rowLimit": 10000
     },
     "inputWidgets": {},
     "nuid": "8d4515c7-f243-47f4-b4f3-42926b0e2962",
     "showTitle": false,
     "tableResultSettingsMap": {},
     "title": ""
    }
   },
   "outputs": [],
   "source": [
    "%sql\n",
    "-- CASE/WHEN\n",
    "CREATE OR REPLACE TEMP VIEW claims_with_fraud_score_vw AS\n",
    "SELECT\n",
    "  *,\n",
    "  -- Logic\n",
    "  CASE\n",
    "    WHEN Amount > 4000 THEN 10  \n",
    "    ELSE 0\n",
    "  END +\n",
    "  CASE\n",
    "    WHEN DAYOFWEEK(ClaimDate) IN (1, 7) THEN 5  \n",
    "    ELSE 0\n",
    "  END +\n",
    "  CASE\n",
    "    WHEN Status = 'Rejected' THEN 2\n",
    "    ELSE 0\n",
    "  END AS fraud_score\n",
    "FROM enriched_claims_vw;\n",
    "\n",
    "SELECT ClaimID, Amount, DAYOFWEEK(ClaimDate) as DoW, Status, fraud_score\n",
    "FROM claims_with_fraud_score_vw\n",
    "ORDER BY fraud_score DESC\n",
    "LIMIT 10;"
   ]
  },
  {
   "cell_type": "code",
   "execution_count": 0,
   "metadata": {
    "application/vnd.databricks.v1+cell": {
     "cellMetadata": {
      "byteLimit": 2048000,
      "rowLimit": 10000
     },
     "inputWidgets": {},
     "nuid": "2629b233-7012-4c74-ba23-45d78dfd109e",
     "showTitle": false,
     "tableResultSettingsMap": {},
     "title": ""
    }
   },
   "outputs": [],
   "source": [
    "# ===== UDF =====\n",
    "\n",
    "from pyspark.sql.functions import udf\n",
    "from pyspark.sql.types import IntegerType\n",
    "\n",
    "# Logic\n",
    "def calculate_complexity_score(claim_type, specialty):\n",
    "  score = 0\n",
    "  if claim_type == \"Inpatient\" and specialty == \"Surgery\":\n",
    "    score = 15\n",
    "  elif claim_type == \"Pharmacy\":\n",
    "    score = 2\n",
    "  else:\n",
    "    score = 5\n",
    "  return score\n",
    "\n",
    "# function to UDF\n",
    "complexity_udf = udf(calculate_complexity_score, IntegerType())\n",
    "\n",
    "# UDF as DataFrame\n",
    "final_df = spark.table(\"claims_with_fraud_score_vw\")\n",
    "final_df_with_udf = final_df.withColumn(\"complexity_score\", complexity_udf(final_df.ClaimType, final_df.ProviderSpecialty))\n",
    "\n",
    "final_df_with_udf.select(\"ClaimID\", \"ClaimType\", \"ProviderSpecialty\", \"fraud_score\", \"complexity_score\").show(10)"
   ]
  }
 ],
 "metadata": {
  "application/vnd.databricks.v1+notebook": {
   "computePreferences": null,
   "dashboards": [],
   "environmentMetadata": {
    "base_environment": "",
    "environment_version": "3"
   },
   "inputWidgetPreferences": null,
   "language": "python",
   "notebookMetadata": {
    "mostRecentlyExecutedCommandWithImplicitDF": {
     "commandId": 7352365911693886,
     "dataframes": [
      "_sqldf"
     ]
    },
    "pythonIndentUnit": 4
   },
   "notebookName": "Experement",
   "widgets": {}
  },
  "language_info": {
   "name": "python"
  }
 },
 "nbformat": 4,
 "nbformat_minor": 0
}
